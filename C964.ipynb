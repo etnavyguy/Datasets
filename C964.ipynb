{
 "cells": [
  {
   "cell_type": "code",
   "execution_count": 161,
   "id": "ff038104",
   "metadata": {},
   "outputs": [
    {
     "name": "stdout",
     "output_type": "stream",
     "text": [
      "0.39214380825565914\n",
      "0.3794940079893475\n",
      "0.41145139813581894\n",
      "0.40679094540612515\n"
     ]
    }
   ],
   "source": [
    "import pandas as pd \n",
    "from matplotlib import pyplot\n",
    "from pandas.plotting import scatter_matrix \n",
    "from sklearn import linear_model, metrics, model_selection, svm, tree\n",
    "from sklearn.naive_bayes import GaussianNB\n",
    "\n",
    "# gets file from github\n",
    "data_url = \"https://raw.githubusercontent.com/etnavyguy/Datasets/main/salaries.csv\"\n",
    "# reads file using panda, then puts the data dataframe\n",
    "df = pd.read_csv(data_url)\n",
    "#drop the salary column\n",
    "df = df.drop(columns=[\"salary\", \"job_title\", \"employee_residence\", \"salary_currency\", \"company_location\" ])\n",
    "\n",
    "# bins the salary_in_usd column into 5 values\n",
    "cut_labels = ['0K to 25K', '25 to 50K','50K to 75K', '75K to 100K', '100K to 150K', \"150K to 10 Million\"]\n",
    "cut_bins = [0, 25000, 50000, 75000, 100000, 150000, 10000000]\n",
    "df['pay'] = pd.cut(df['salary_in_usd'], bins=cut_bins, labels=cut_labels)\n",
    "#drop the salary_in_usd column after using it to make the salary column\n",
    "df = df.drop(columns=[\"salary_in_usd\"])\n",
    "\n",
    "# replaces company_size with numbers\n",
    "df[\"company_size\"] = df[\"company_size\"].replace({'S': 0, 'M': 1, 'L': 2})\n",
    "# replaces experience_level with numbers\n",
    "df[\"experience_level\"] = df[\"experience_level\"].replace({'MI': 0, 'SE': 1, 'EX': 2, 'EN': 3})\n",
    "# replaces salary_currency with a number\n",
    "#df[\"salary_currency\"] = df[\"salary_currency\"].replace({'USD': 0, 'TRY': 1, 'THB': 2, 'SGD': 3, 'PLN': 4, 'MXN': 5, 'JPY': 6, 'INR': 7, 'ILS': 8, 'HUF': 9, 'HKD': 10, 'GBP': 11, 'EUR': 12, 'DKK': 13, 'CZK': 14, 'CLP': 15, 'CHF': 16, 'CAD': 17, 'BRL': 18, 'AUD': 19})\n",
    "# replaces company_location with numbers\n",
    "#df[\"company_location\"] = df[\"company_location\"].replace({'VN': 0, 'US': 1, 'UA': 2, 'TR': 3, 'TH': 4, 'SK': 5, 'SI': 6, 'SG': 7, 'SE': 8, 'RU': 9, 'RO': 10, 'PT': 11, 'PR': 12, 'PL': 13, 'PK': 14, 'PH': 15, 'NZ': 16, 'NL': 17, 'NG': 18, 'MY': 19, 'MX': 20, 'MT': 21, 'MK': 22, 'MD': 23, 'MA': 24, 'LV': 25, 'LU': 26, 'LT': 27, 'KE': 28, 'JP': 29, 'IT': 30, 'IR': 31, 'IQ': 32, 'IN': 33, 'IL': 34, 'IE': 35, 'ID': 36, 'HU': 37, 'HR': 38, 'HN': 39, 'HK': 40, 'GR': 41, 'GH': 42, 'GB': 43, 'FR': 44, 'FI': 45, 'ES': 46, 'EG': 47, 'EE': 48, 'DZ': 49, 'DK': 50, 'DE': 51, 'CZ': 52, 'CR': 53, 'CO': 54, 'CN': 55, 'CL': 56, 'CH': 57, 'CF': 58, 'CA': 59, 'BS': 60, 'BR': 61, 'BO': 62, 'BE': 63, 'BA': 64, 'AU': 65, 'AT': 66, 'AS': 67, 'AR': 68, 'AM': 69, 'AL': 70, 'AE': 71})\n",
    "# replaces employment_type with a number\n",
    "df[\"employment_type\"] = df[\"employment_type\"].replace({'PT': 0, 'FT': 1, 'FL': 2, 'CT': 3})\n",
    "# replaces job_title with a number\n",
    "#df[\"job_title\"] = df[\"job_title\"].replace({'Staff Data Scientist': 0, 'Staff Data Analyst': 1, 'Software Data Engineer': 2, 'Research Scientist': 3, 'Research Engineer': 4, 'Product Data Scientist': 5, 'Product Data Analyst': 6, 'Principal Machine Learning Engineer': 7, 'Principal Data Scientist': 8, 'Principal Data Engineer': 9, 'Principal Data Architect': 10, 'Principal Data Analyst': 11, 'Power BI Developer': 12, 'NLP Engineer': 13, 'MLOps Engineer': 14, 'ML Engineer': 15, 'Marketing Data Engineer': 16, 'Marketing Data Analyst': 17, 'Manager Data Management': 18, 'Machine Learning Software Engineer': 19, 'Machine Learning Software Engineer': 20, 'Lead Machine Learning Engineer': 21, 'Lead Data Scientist': 22, 'Lead Data Engineer': 23, 'Lead Data Analyst': 24, 'Insight Analyst': 25, 'Head of Machine Learning': 26, 'Head of Data Science': 27, 'Head of Data': 28, 'Financial Data Analyst': 29, 'Finance Data Analyst': 30, 'ETL Engineer': 31, 'ETL Developer': 32, 'Director of Data Science': 33, 'Deep Learning Researcher': 34, 'Deep Learning Engineer': 35, 'Data Strategist': 36, 'Data Specialist': 37, 'Data Scientist Lead': 38, 'Data Scientist': 39, 'Data Science Tech Lead': 40, 'Data Science Manager': 41, 'Data Science Lead': 42, 'Data Science Engineer': 43, 'Data Science Consultant': 44, 'Data Quality Analyst': 45, 'Data Operations Engineer': 46, 'Data Operations Analyst': 47, 'Data Modeler': 48, 'Data Manager': 49, 'Data Management Specialist': 50, 'Data Lead': 51, 'Data Infrastructure Engineer': 52, 'Data Engineer': 53, 'Data DevOps Engineer': 54, 'Data Architect': 55, 'Data Analytics Specialist': 56, 'Data Analytics Manager': 57, 'Data Analytics Lead': 58, 'Data Analytics Engineer': 59, 'Data Analytics Consultant': 60, 'Data Analyst': 61, 'Computer Vision Software Engineer': 62, 'Computer Vision Engineer': 63, 'Compliance Data Analyst': 64, 'Cloud Database Engineer': 65, 'Cloud Data Engineer': 66, 'Cloud Data Architect': 67, 'Business Intelligence Engineer': 68, 'Business Data Analyst': 69, 'Big Data Engineer': 70, 'Big Data Architect': 71})\n",
    "\n",
    "    \n",
    "    \n",
    "#print(df)\n",
    "\n",
    "#df[\"experience_level\"] = column_to_change\n",
    "\n",
    "# shows histogram of numerical types\n",
    "#df.hist(column = [\"work_year\", \"salary_in_usd\", \"remote_ratio\"])\n",
    "#pyplot.show()\n",
    "#df.hist()\n",
    "\n",
    "\n",
    "# prints a matrix of scatter plots\n",
    "#scatter_matrix(df)\n",
    "#pyplot.show()\n",
    "\n",
    "#logarithmic model and svm model created\n",
    "logarithmic_model = linear_model.LogisticRegression(max_iter=10000)\n",
    "svm_model = svm.SVC(max_iter=10000)\n",
    "tree_model = tree.DecisionTreeClassifier()\n",
    "gnb_model = GaussianNB()\n",
    "\n",
    "y=df.values[:,5]\n",
    "X=df.values[:,0:5]\n",
    "\n",
    "#Splits the data into training and test partitions\n",
    "X_train, X_test , y_train, y_test = model_selection.train_test_split(X,y,test_size=0.4)\n",
    "#trains the models\n",
    "logarithmic_model.fit(X_train,y_train)\n",
    "svm_model.fit(X_train,y_train)\n",
    "tree_model.fit(X_train,y_train)\n",
    "gnb_model.fit(X_train, y_train)\n",
    "#creates a prediction using the untrained data\n",
    "y_pred_log = logarithmic_model.predict(X_test)\n",
    "y_pred_svm = svm_model.predict(X_test)\n",
    "y_pred_tree = tree_model.predict(X_test)\n",
    "y_pred_gnb = gnb_model.predict(X_test)\n",
    "\n",
    "#prints the accuracy_score\n",
    "print(metrics.accuracy_score(y_test, y_pred_log))\n",
    "print(metrics.accuracy_score(y_test, y_pred_svm))\n",
    "print(metrics.accuracy_score(y_test, y_pred_tree))\n",
    "print(metrics.accuracy_score(y_test, y_pred_gnb))\n",
    "\n",
    "#metrics.plot_confusion_matrix(svm_model,X_test,y_test)"
   ]
  },
  {
   "cell_type": "markdown",
   "id": "330cf67f",
   "metadata": {},
   "source": [
    "##### "
   ]
  },
  {
   "cell_type": "code",
   "execution_count": null,
   "id": "ea4b2ca8",
   "metadata": {},
   "outputs": [],
   "source": []
  },
  {
   "cell_type": "code",
   "execution_count": null,
   "id": "915a0f6e",
   "metadata": {},
   "outputs": [],
   "source": []
  }
 ],
 "metadata": {
  "kernelspec": {
   "display_name": "Python 3 (ipykernel)",
   "language": "python",
   "name": "python3"
  },
  "language_info": {
   "codemirror_mode": {
    "name": "ipython",
    "version": 3
   },
   "file_extension": ".py",
   "mimetype": "text/x-python",
   "name": "python",
   "nbconvert_exporter": "python",
   "pygments_lexer": "ipython3",
   "version": "3.10.9"
  }
 },
 "nbformat": 4,
 "nbformat_minor": 5
}
